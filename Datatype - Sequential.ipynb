{
 "cells": [
  {
   "cell_type": "markdown",
   "id": "fc562fc1",
   "metadata": {},
   "source": [
    "### Strings"
   ]
  },
  {
   "cell_type": "code",
   "execution_count": 1,
   "id": "c18ca554",
   "metadata": {},
   "outputs": [],
   "source": [
    "string_sample='learning'"
   ]
  },
  {
   "cell_type": "code",
   "execution_count": 2,
   "id": "833141b3",
   "metadata": {},
   "outputs": [
    {
     "data": {
      "text/plain": [
       "str"
      ]
     },
     "execution_count": 2,
     "metadata": {},
     "output_type": "execute_result"
    }
   ],
   "source": [
    "type(string_sample)"
   ]
  },
  {
   "cell_type": "code",
   "execution_count": 3,
   "id": "2fdaa204",
   "metadata": {},
   "outputs": [],
   "source": [
    "string_sample2='learning256'"
   ]
  },
  {
   "cell_type": "code",
   "execution_count": 4,
   "id": "2987a70b",
   "metadata": {},
   "outputs": [
    {
     "data": {
      "text/plain": [
       "str"
      ]
     },
     "execution_count": 4,
     "metadata": {},
     "output_type": "execute_result"
    }
   ],
   "source": [
    "type(string_sample2)"
   ]
  },
  {
   "cell_type": "code",
   "execution_count": 5,
   "id": "65113c67",
   "metadata": {},
   "outputs": [],
   "source": [
    "string_sample3='learning256#$^'"
   ]
  },
  {
   "cell_type": "code",
   "execution_count": 9,
   "id": "4e5bed3d",
   "metadata": {},
   "outputs": [
    {
     "data": {
      "text/plain": [
       "str"
      ]
     },
     "execution_count": 9,
     "metadata": {},
     "output_type": "execute_result"
    }
   ],
   "source": [
    "type(string_sample3)"
   ]
  },
  {
   "cell_type": "markdown",
   "id": "9897b591",
   "metadata": {},
   "source": [
    "### Lists"
   ]
  },
  {
   "cell_type": "code",
   "execution_count": 10,
   "id": "9117410d",
   "metadata": {},
   "outputs": [],
   "source": [
    "list_sample=[1,2,3,3,4,5]"
   ]
  },
  {
   "cell_type": "code",
   "execution_count": 11,
   "id": "3d11e18d",
   "metadata": {},
   "outputs": [
    {
     "data": {
      "text/plain": [
       "list"
      ]
     },
     "execution_count": 11,
     "metadata": {},
     "output_type": "execute_result"
    }
   ],
   "source": [
    "type(list_sample)"
   ]
  },
  {
   "cell_type": "code",
   "execution_count": 12,
   "id": "7aff036a",
   "metadata": {},
   "outputs": [],
   "source": [
    "list_sample2=[1,2,3,3,4,5,'a','t']"
   ]
  },
  {
   "cell_type": "code",
   "execution_count": 13,
   "id": "7bb769b8",
   "metadata": {},
   "outputs": [
    {
     "data": {
      "text/plain": [
       "list"
      ]
     },
     "execution_count": 13,
     "metadata": {},
     "output_type": "execute_result"
    }
   ],
   "source": [
    "type(list_sample2)"
   ]
  },
  {
   "cell_type": "code",
   "execution_count": 16,
   "id": "acdfa43e",
   "metadata": {},
   "outputs": [],
   "source": [
    "list_sample3=[1,2,3,3,4,5,'a','t','%','$']"
   ]
  },
  {
   "cell_type": "code",
   "execution_count": 17,
   "id": "2d3b0336",
   "metadata": {},
   "outputs": [
    {
     "data": {
      "text/plain": [
       "list"
      ]
     },
     "execution_count": 17,
     "metadata": {},
     "output_type": "execute_result"
    }
   ],
   "source": [
    "type(list_sample3)"
   ]
  },
  {
   "cell_type": "code",
   "execution_count": 18,
   "id": "94d94aec",
   "metadata": {},
   "outputs": [],
   "source": [
    "list_sample4=[1,2,3,3,4,5,'a','t','%','$',[8,9,10]]"
   ]
  },
  {
   "cell_type": "code",
   "execution_count": 19,
   "id": "74cc0ee4",
   "metadata": {},
   "outputs": [
    {
     "data": {
      "text/plain": [
       "list"
      ]
     },
     "execution_count": 19,
     "metadata": {},
     "output_type": "execute_result"
    }
   ],
   "source": [
    "type(list_sample4)"
   ]
  },
  {
   "cell_type": "markdown",
   "id": "79b4c9ba",
   "metadata": {},
   "source": [
    "### Array"
   ]
  },
  {
   "cell_type": "code",
   "execution_count": 23,
   "id": "43ab1e87",
   "metadata": {},
   "outputs": [],
   "source": [
    "from array import *"
   ]
  },
  {
   "cell_type": "code",
   "execution_count": 29,
   "id": "77fa0081",
   "metadata": {},
   "outputs": [],
   "source": [
    "array_sample=array('i',[1,2,3,4])"
   ]
  },
  {
   "cell_type": "code",
   "execution_count": 30,
   "id": "ab9a707e",
   "metadata": {},
   "outputs": [
    {
     "name": "stdout",
     "output_type": "stream",
     "text": [
      "array('i', [1, 2, 3, 4])\n"
     ]
    }
   ],
   "source": [
    "print(array_sample)"
   ]
  },
  {
   "cell_type": "code",
   "execution_count": 31,
   "id": "e97c8729",
   "metadata": {},
   "outputs": [
    {
     "name": "stdout",
     "output_type": "stream",
     "text": [
      "1\n",
      "2\n",
      "3\n",
      "4\n"
     ]
    }
   ],
   "source": [
    "for x in array_sample:\n",
    "    print(x)"
   ]
  },
  {
   "cell_type": "markdown",
   "id": "a63b99f0",
   "metadata": {},
   "source": [
    "### Tuple"
   ]
  },
  {
   "cell_type": "code",
   "execution_count": 33,
   "id": "1c912611",
   "metadata": {},
   "outputs": [
    {
     "data": {
      "text/plain": [
       "(1, 2, 5, 5, 8, 'a', 'v')"
      ]
     },
     "execution_count": 33,
     "metadata": {},
     "output_type": "execute_result"
    }
   ],
   "source": [
    "tuple_sample=(1,2,5,5,8,'a','v')\n",
    "tuple_sample"
   ]
  },
  {
   "cell_type": "code",
   "execution_count": 36,
   "id": "f23c768b",
   "metadata": {},
   "outputs": [
    {
     "data": {
      "text/plain": [
       "(1, 2, 5, 5, 8, 'a', 'v', 'vinay')"
      ]
     },
     "execution_count": 36,
     "metadata": {},
     "output_type": "execute_result"
    }
   ],
   "source": [
    "tuple_sample2=1,2,5,5,8,'a','v','vinay'    #tuple packing (without parenthesis)\n",
    "tuple_sample2"
   ]
  },
  {
   "cell_type": "markdown",
   "id": "e69d1894",
   "metadata": {},
   "source": [
    "### Dictionary"
   ]
  },
  {
   "cell_type": "code",
   "execution_count": 41,
   "id": "ba4b338d",
   "metadata": {},
   "outputs": [
    {
     "data": {
      "text/plain": [
       "{1: 'vinay', 'two': 'Preetam', 3: 'Tanvi'}"
      ]
     },
     "execution_count": 41,
     "metadata": {},
     "output_type": "execute_result"
    }
   ],
   "source": [
    "dict_sample={1:'vinay','two':'Preetam',3:'Tanvi'}\n",
    "dict_sample"
   ]
  },
  {
   "cell_type": "code",
   "execution_count": 48,
   "id": "f4171ca6",
   "metadata": {},
   "outputs": [
    {
     "data": {
      "text/plain": [
       "{1: 'vinay', 'two': 'Preetam', 3: 'Tanvi'}"
      ]
     },
     "execution_count": 48,
     "metadata": {},
     "output_type": "execute_result"
    }
   ],
   "source": [
    "dict_sample2=dict([(1,'vinay'),('two','Preetam'),(3,'Tanvi')])\n",
    "dict_sample2"
   ]
  },
  {
   "cell_type": "markdown",
   "id": "82fd314d",
   "metadata": {},
   "source": [
    "### Set"
   ]
  },
  {
   "cell_type": "code",
   "execution_count": 49,
   "id": "46fd26db",
   "metadata": {},
   "outputs": [
    {
     "data": {
      "text/plain": [
       "{2, 226, 8, 'p', 'vinay'}"
      ]
     },
     "execution_count": 49,
     "metadata": {},
     "output_type": "execute_result"
    }
   ],
   "source": [
    "set_sample={'vinay',2,8,226,\"p\"}\n",
    "set_sample"
   ]
  },
  {
   "cell_type": "code",
   "execution_count": 50,
   "id": "73195da5",
   "metadata": {},
   "outputs": [
    {
     "data": {
      "text/plain": [
       "{'a', 'i', 'n', 'v', 'y'}"
      ]
     },
     "execution_count": 50,
     "metadata": {},
     "output_type": "execute_result"
    }
   ],
   "source": [
    "set_sample2=set('vinay')  ## using set function\n",
    "set_sample2"
   ]
  },
  {
   "cell_type": "markdown",
   "id": "f8d92e37",
   "metadata": {},
   "source": [
    "### Range"
   ]
  },
  {
   "cell_type": "code",
   "execution_count": 51,
   "id": "8ac1ac11",
   "metadata": {},
   "outputs": [],
   "source": [
    "range_sample=range(1,12,4)"
   ]
  },
  {
   "cell_type": "code",
   "execution_count": 52,
   "id": "73b7c57d",
   "metadata": {},
   "outputs": [
    {
     "data": {
      "text/plain": [
       "range(1, 12, 4)"
      ]
     },
     "execution_count": 52,
     "metadata": {},
     "output_type": "execute_result"
    }
   ],
   "source": [
    "range_sample"
   ]
  },
  {
   "cell_type": "code",
   "execution_count": 55,
   "id": "cebfeced",
   "metadata": {},
   "outputs": [
    {
     "name": "stdout",
     "output_type": "stream",
     "text": [
      "1\n",
      "5\n",
      "9\n"
     ]
    }
   ],
   "source": [
    "for i in range_sample:\n",
    "    print(i)"
   ]
  },
  {
   "cell_type": "code",
   "execution_count": null,
   "id": "60aad557",
   "metadata": {},
   "outputs": [],
   "source": []
  }
 ],
 "metadata": {
  "kernelspec": {
   "display_name": "Python 3 (ipykernel)",
   "language": "python",
   "name": "python3"
  },
  "language_info": {
   "codemirror_mode": {
    "name": "ipython",
    "version": 3
   },
   "file_extension": ".py",
   "mimetype": "text/x-python",
   "name": "python",
   "nbconvert_exporter": "python",
   "pygments_lexer": "ipython3",
   "version": "3.9.13"
  }
 },
 "nbformat": 4,
 "nbformat_minor": 5
}
