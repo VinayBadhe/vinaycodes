{
 "cells": [
  {
   "cell_type": "code",
   "execution_count": 1,
   "id": "6ad5c4a7",
   "metadata": {},
   "outputs": [
    {
     "name": "stdout",
     "output_type": "stream",
     "text": [
      "Enter the value of number 125\n",
      "Enter the value of number 289\n",
      "Enter the value of number 3132\n",
      "Maximum number is \n",
      "132\n"
     ]
    }
   ],
   "source": [
    "x=int(input('Enter the value of number 1'))\n",
    "y=int(input('Enter the value of number 2'))\n",
    "z=int(input('Enter the value of number 3'))\n",
    "\n",
    "print('Maximum number is ')\n",
    "print(max(x,y,z))"
   ]
  },
  {
   "cell_type": "code",
   "execution_count": null,
   "id": "ba2f6c18",
   "metadata": {},
   "outputs": [],
   "source": []
  }
 ],
 "metadata": {
  "kernelspec": {
   "display_name": "Python 3 (ipykernel)",
   "language": "python",
   "name": "python3"
  },
  "language_info": {
   "codemirror_mode": {
    "name": "ipython",
    "version": 3
   },
   "file_extension": ".py",
   "mimetype": "text/x-python",
   "name": "python",
   "nbconvert_exporter": "python",
   "pygments_lexer": "ipython3",
   "version": "3.9.13"
  }
 },
 "nbformat": 4,
 "nbformat_minor": 5
}
