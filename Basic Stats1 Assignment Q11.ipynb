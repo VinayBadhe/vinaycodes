{
 "cells": [
  {
   "cell_type": "code",
   "execution_count": 1,
   "id": "88b06bf0",
   "metadata": {},
   "outputs": [],
   "source": [
    "from scipy import stats\n",
    "import pandas as pd\n",
    "import numpy as np"
   ]
  },
  {
   "cell_type": "code",
   "execution_count": 4,
   "id": "75946529",
   "metadata": {},
   "outputs": [
    {
     "data": {
      "text/plain": [
       "(143.57619175546247, 256.42380824453755)"
      ]
     },
     "execution_count": 4,
     "metadata": {},
     "output_type": "execute_result"
    }
   ],
   "source": [
    "CI_94=stats.norm.interval(0.94,200,30)\n",
    "CI_94"
   ]
  },
  {
   "cell_type": "code",
   "execution_count": 5,
   "id": "42e9e529",
   "metadata": {},
   "outputs": [
    {
     "data": {
      "text/plain": [
       "(130.2095637787748, 269.7904362212252)"
      ]
     },
     "execution_count": 5,
     "metadata": {},
     "output_type": "execute_result"
    }
   ],
   "source": [
    "CI_98=stats.norm.interval(0.98,200,30)\n",
    "CI_98"
   ]
  },
  {
   "cell_type": "code",
   "execution_count": 6,
   "id": "07aae3b4",
   "metadata": {},
   "outputs": [
    {
     "data": {
      "text/plain": [
       "(138.38753268104531, 261.61246731895466)"
      ]
     },
     "execution_count": 6,
     "metadata": {},
     "output_type": "execute_result"
    }
   ],
   "source": [
    "CI_96=stats.norm.interval(0.96,200,30)\n",
    "CI_96"
   ]
  },
  {
   "cell_type": "code",
   "execution_count": null,
   "id": "7a828cc0",
   "metadata": {},
   "outputs": [],
   "source": []
  }
 ],
 "metadata": {
  "kernelspec": {
   "display_name": "Python 3 (ipykernel)",
   "language": "python",
   "name": "python3"
  },
  "language_info": {
   "codemirror_mode": {
    "name": "ipython",
    "version": 3
   },
   "file_extension": ".py",
   "mimetype": "text/x-python",
   "name": "python",
   "nbconvert_exporter": "python",
   "pygments_lexer": "ipython3",
   "version": "3.9.13"
  }
 },
 "nbformat": 4,
 "nbformat_minor": 5
}
