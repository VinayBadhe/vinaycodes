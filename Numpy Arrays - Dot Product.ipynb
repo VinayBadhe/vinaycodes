{
 "cells": [
  {
   "cell_type": "code",
   "execution_count": 1,
   "id": "3a081079",
   "metadata": {},
   "outputs": [],
   "source": [
    "import numpy as np"
   ]
  },
  {
   "cell_type": "code",
   "execution_count": 2,
   "id": "f43c4aed",
   "metadata": {},
   "outputs": [],
   "source": [
    "v=np.array([2.5,3.8,8.5])"
   ]
  },
  {
   "cell_type": "code",
   "execution_count": 3,
   "id": "c243fbc1",
   "metadata": {},
   "outputs": [],
   "source": [
    "weights=np.array([5,12,21])"
   ]
  },
  {
   "cell_type": "code",
   "execution_count": 4,
   "id": "c99792d4",
   "metadata": {},
   "outputs": [
    {
     "data": {
      "text/plain": [
       "numpy.ndarray"
      ]
     },
     "execution_count": 4,
     "metadata": {},
     "output_type": "execute_result"
    }
   ],
   "source": [
    "type(v)"
   ]
  },
  {
   "cell_type": "code",
   "execution_count": 5,
   "id": "4aa36b3d",
   "metadata": {},
   "outputs": [
    {
     "data": {
      "text/plain": [
       "numpy.ndarray"
      ]
     },
     "execution_count": 5,
     "metadata": {},
     "output_type": "execute_result"
    }
   ],
   "source": [
    "type(weights)"
   ]
  },
  {
   "cell_type": "code",
   "execution_count": 6,
   "id": "43c920e4",
   "metadata": {},
   "outputs": [
    {
     "data": {
      "text/plain": [
       "236.6"
      ]
     },
     "execution_count": 6,
     "metadata": {},
     "output_type": "execute_result"
    }
   ],
   "source": [
    "np.dot(v,weights)"
   ]
  },
  {
   "cell_type": "code",
   "execution_count": 8,
   "id": "83f7e4b3",
   "metadata": {},
   "outputs": [
    {
     "data": {
      "text/plain": [
       "array([ 12.5,  45.6, 178.5])"
      ]
     },
     "execution_count": 8,
     "metadata": {},
     "output_type": "execute_result"
    }
   ],
   "source": [
    "(v*weights)"
   ]
  },
  {
   "cell_type": "code",
   "execution_count": 10,
   "id": "b03c0026",
   "metadata": {},
   "outputs": [
    {
     "data": {
      "text/plain": [
       "236.6"
      ]
     },
     "execution_count": 10,
     "metadata": {},
     "output_type": "execute_result"
    }
   ],
   "source": [
    "(v*weights).sum()"
   ]
  },
  {
   "cell_type": "code",
   "execution_count": 11,
   "id": "1129dce8",
   "metadata": {},
   "outputs": [
    {
     "data": {
      "text/plain": [
       "236.6"
      ]
     },
     "execution_count": 11,
     "metadata": {},
     "output_type": "execute_result"
    }
   ],
   "source": [
    "v@weights"
   ]
  },
  {
   "cell_type": "code",
   "execution_count": null,
   "id": "421516aa",
   "metadata": {},
   "outputs": [],
   "source": []
  }
 ],
 "metadata": {
  "kernelspec": {
   "display_name": "Python 3 (ipykernel)",
   "language": "python",
   "name": "python3"
  },
  "language_info": {
   "codemirror_mode": {
    "name": "ipython",
    "version": 3
   },
   "file_extension": ".py",
   "mimetype": "text/x-python",
   "name": "python",
   "nbconvert_exporter": "python",
   "pygments_lexer": "ipython3",
   "version": "3.9.13"
  }
 },
 "nbformat": 4,
 "nbformat_minor": 5
}
