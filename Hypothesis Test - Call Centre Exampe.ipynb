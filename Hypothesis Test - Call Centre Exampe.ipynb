{
 "cells": [
  {
   "cell_type": "markdown",
   "id": "6b142c69",
   "metadata": {},
   "source": [
    "### Hypothesis Test - Call centre example\n",
    "### Ho: U=4 , \n",
    "### H1: U!=4"
   ]
  },
  {
   "cell_type": "code",
   "execution_count": 2,
   "id": "79ad84b5",
   "metadata": {},
   "outputs": [],
   "source": [
    "import pandas as pd\n",
    "import numpy as np\n",
    "from scipy import stats"
   ]
  },
  {
   "cell_type": "code",
   "execution_count": 3,
   "id": "5a25b371",
   "metadata": {},
   "outputs": [
    {
     "data": {
      "text/plain": [
       "-1.4142135623730943"
      ]
     },
     "execution_count": 3,
     "metadata": {},
     "output_type": "execute_result"
    }
   ],
   "source": [
    "(4-4.6)/(3/np.sqrt(50))"
   ]
  },
  {
   "cell_type": "code",
   "execution_count": 5,
   "id": "7454931f",
   "metadata": {},
   "outputs": [],
   "source": [
    "p1=stats.t.cdf(-1.41,49)"
   ]
  },
  {
   "cell_type": "code",
   "execution_count": 8,
   "id": "fc6288b0",
   "metadata": {},
   "outputs": [
    {
     "data": {
      "text/plain": [
       "0.1648559451804547"
      ]
     },
     "execution_count": 8,
     "metadata": {},
     "output_type": "execute_result"
    }
   ],
   "source": [
    "p=2*p1\n",
    "p"
   ]
  },
  {
   "cell_type": "markdown",
   "id": "c4cf5a7d",
   "metadata": {},
   "source": [
    "### Since p value > alpha value (0.025), fail to reject null Hypothesis"
   ]
  },
  {
   "cell_type": "code",
   "execution_count": null,
   "id": "1aa85c6b",
   "metadata": {},
   "outputs": [],
   "source": []
  }
 ],
 "metadata": {
  "kernelspec": {
   "display_name": "Python 3 (ipykernel)",
   "language": "python",
   "name": "python3"
  },
  "language_info": {
   "codemirror_mode": {
    "name": "ipython",
    "version": 3
   },
   "file_extension": ".py",
   "mimetype": "text/x-python",
   "name": "python",
   "nbconvert_exporter": "python",
   "pygments_lexer": "ipython3",
   "version": "3.9.13"
  }
 },
 "nbformat": 4,
 "nbformat_minor": 5
}
