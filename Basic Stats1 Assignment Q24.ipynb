{
 "cells": [
  {
   "cell_type": "code",
   "execution_count": 4,
   "id": "9bea9236",
   "metadata": {},
   "outputs": [],
   "source": [
    "import numpy as np\n",
    "import pandas as pd\n",
    "from scipy import stats\n",
    "import math"
   ]
  },
  {
   "cell_type": "code",
   "execution_count": 5,
   "id": "f4ac70e0",
   "metadata": {},
   "outputs": [],
   "source": [
    "tscore=(260-270)/(90/math.sqrt(90))"
   ]
  },
  {
   "cell_type": "code",
   "execution_count": 7,
   "id": "1aa83a98",
   "metadata": {},
   "outputs": [
    {
     "data": {
      "text/plain": [
       "0.1532962480846976"
      ]
     },
     "execution_count": 7,
     "metadata": {},
     "output_type": "execute_result"
    }
   ],
   "source": [
    "stats.t.cdf(tscore,17)"
   ]
  },
  {
   "cell_type": "code",
   "execution_count": null,
   "id": "7fa380b5",
   "metadata": {},
   "outputs": [],
   "source": []
  }
 ],
 "metadata": {
  "kernelspec": {
   "display_name": "Python 3 (ipykernel)",
   "language": "python",
   "name": "python3"
  },
  "language_info": {
   "codemirror_mode": {
    "name": "ipython",
    "version": 3
   },
   "file_extension": ".py",
   "mimetype": "text/x-python",
   "name": "python",
   "nbconvert_exporter": "python",
   "pygments_lexer": "ipython3",
   "version": "3.9.13"
  }
 },
 "nbformat": 4,
 "nbformat_minor": 5
}
