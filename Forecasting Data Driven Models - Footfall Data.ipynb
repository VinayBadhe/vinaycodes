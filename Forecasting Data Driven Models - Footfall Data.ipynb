{
 "cells": [
  {
   "cell_type": "code",
   "execution_count": 1,
   "id": "ce707c87",
   "metadata": {},
   "outputs": [],
   "source": [
    "import pandas as pd"
   ]
  },
  {
   "cell_type": "code",
   "execution_count": 2,
   "id": "d86f3bba",
   "metadata": {},
   "outputs": [
    {
     "data": {
      "text/html": [
       "<div>\n",
       "<style scoped>\n",
       "    .dataframe tbody tr th:only-of-type {\n",
       "        vertical-align: middle;\n",
       "    }\n",
       "\n",
       "    .dataframe tbody tr th {\n",
       "        vertical-align: top;\n",
       "    }\n",
       "\n",
       "    .dataframe thead th {\n",
       "        text-align: right;\n",
       "    }\n",
       "</style>\n",
       "<table border=\"1\" class=\"dataframe\">\n",
       "  <thead>\n",
       "    <tr style=\"text-align: right;\">\n",
       "      <th></th>\n",
       "      <th>Month</th>\n",
       "      <th>Footfalls</th>\n",
       "      <th>t</th>\n",
       "      <th>log_footfalls</th>\n",
       "      <th>t_square</th>\n",
       "      <th>Jan</th>\n",
       "      <th>Feb</th>\n",
       "      <th>Mar</th>\n",
       "      <th>Apr</th>\n",
       "      <th>May</th>\n",
       "      <th>Jun</th>\n",
       "      <th>Jul</th>\n",
       "      <th>Aug</th>\n",
       "      <th>Sep</th>\n",
       "      <th>Oct</th>\n",
       "      <th>Nov</th>\n",
       "      <th>Dec</th>\n",
       "    </tr>\n",
       "  </thead>\n",
       "  <tbody>\n",
       "    <tr>\n",
       "      <th>0</th>\n",
       "      <td>Jan-91</td>\n",
       "      <td>1709</td>\n",
       "      <td>1</td>\n",
       "      <td>7.443664</td>\n",
       "      <td>1</td>\n",
       "      <td>1</td>\n",
       "      <td>0</td>\n",
       "      <td>0</td>\n",
       "      <td>0</td>\n",
       "      <td>0</td>\n",
       "      <td>0</td>\n",
       "      <td>0</td>\n",
       "      <td>0</td>\n",
       "      <td>0</td>\n",
       "      <td>0</td>\n",
       "      <td>0</td>\n",
       "      <td>0</td>\n",
       "    </tr>\n",
       "    <tr>\n",
       "      <th>1</th>\n",
       "      <td>Feb-91</td>\n",
       "      <td>1621</td>\n",
       "      <td>2</td>\n",
       "      <td>7.390799</td>\n",
       "      <td>4</td>\n",
       "      <td>0</td>\n",
       "      <td>1</td>\n",
       "      <td>0</td>\n",
       "      <td>0</td>\n",
       "      <td>0</td>\n",
       "      <td>0</td>\n",
       "      <td>0</td>\n",
       "      <td>0</td>\n",
       "      <td>0</td>\n",
       "      <td>0</td>\n",
       "      <td>0</td>\n",
       "      <td>0</td>\n",
       "    </tr>\n",
       "    <tr>\n",
       "      <th>2</th>\n",
       "      <td>Mar-91</td>\n",
       "      <td>1973</td>\n",
       "      <td>3</td>\n",
       "      <td>7.587311</td>\n",
       "      <td>9</td>\n",
       "      <td>0</td>\n",
       "      <td>0</td>\n",
       "      <td>1</td>\n",
       "      <td>0</td>\n",
       "      <td>0</td>\n",
       "      <td>0</td>\n",
       "      <td>0</td>\n",
       "      <td>0</td>\n",
       "      <td>0</td>\n",
       "      <td>0</td>\n",
       "      <td>0</td>\n",
       "      <td>0</td>\n",
       "    </tr>\n",
       "    <tr>\n",
       "      <th>3</th>\n",
       "      <td>Apr-91</td>\n",
       "      <td>1812</td>\n",
       "      <td>4</td>\n",
       "      <td>7.502186</td>\n",
       "      <td>16</td>\n",
       "      <td>0</td>\n",
       "      <td>0</td>\n",
       "      <td>0</td>\n",
       "      <td>1</td>\n",
       "      <td>0</td>\n",
       "      <td>0</td>\n",
       "      <td>0</td>\n",
       "      <td>0</td>\n",
       "      <td>0</td>\n",
       "      <td>0</td>\n",
       "      <td>0</td>\n",
       "      <td>0</td>\n",
       "    </tr>\n",
       "    <tr>\n",
       "      <th>4</th>\n",
       "      <td>May-91</td>\n",
       "      <td>1975</td>\n",
       "      <td>5</td>\n",
       "      <td>7.588324</td>\n",
       "      <td>25</td>\n",
       "      <td>0</td>\n",
       "      <td>0</td>\n",
       "      <td>0</td>\n",
       "      <td>0</td>\n",
       "      <td>1</td>\n",
       "      <td>0</td>\n",
       "      <td>0</td>\n",
       "      <td>0</td>\n",
       "      <td>0</td>\n",
       "      <td>0</td>\n",
       "      <td>0</td>\n",
       "      <td>0</td>\n",
       "    </tr>\n",
       "    <tr>\n",
       "      <th>...</th>\n",
       "      <td>...</td>\n",
       "      <td>...</td>\n",
       "      <td>...</td>\n",
       "      <td>...</td>\n",
       "      <td>...</td>\n",
       "      <td>...</td>\n",
       "      <td>...</td>\n",
       "      <td>...</td>\n",
       "      <td>...</td>\n",
       "      <td>...</td>\n",
       "      <td>...</td>\n",
       "      <td>...</td>\n",
       "      <td>...</td>\n",
       "      <td>...</td>\n",
       "      <td>...</td>\n",
       "      <td>...</td>\n",
       "      <td>...</td>\n",
       "    </tr>\n",
       "    <tr>\n",
       "      <th>154</th>\n",
       "      <td>Nov-03</td>\n",
       "      <td>2076</td>\n",
       "      <td>155</td>\n",
       "      <td>7.638198</td>\n",
       "      <td>24025</td>\n",
       "      <td>0</td>\n",
       "      <td>0</td>\n",
       "      <td>0</td>\n",
       "      <td>0</td>\n",
       "      <td>0</td>\n",
       "      <td>0</td>\n",
       "      <td>0</td>\n",
       "      <td>0</td>\n",
       "      <td>0</td>\n",
       "      <td>0</td>\n",
       "      <td>1</td>\n",
       "      <td>0</td>\n",
       "    </tr>\n",
       "    <tr>\n",
       "      <th>155</th>\n",
       "      <td>Dec-03</td>\n",
       "      <td>2141</td>\n",
       "      <td>156</td>\n",
       "      <td>7.669028</td>\n",
       "      <td>24336</td>\n",
       "      <td>0</td>\n",
       "      <td>0</td>\n",
       "      <td>0</td>\n",
       "      <td>0</td>\n",
       "      <td>0</td>\n",
       "      <td>0</td>\n",
       "      <td>0</td>\n",
       "      <td>0</td>\n",
       "      <td>0</td>\n",
       "      <td>0</td>\n",
       "      <td>0</td>\n",
       "      <td>1</td>\n",
       "    </tr>\n",
       "    <tr>\n",
       "      <th>156</th>\n",
       "      <td>Jan-04</td>\n",
       "      <td>1832</td>\n",
       "      <td>157</td>\n",
       "      <td>7.513164</td>\n",
       "      <td>24649</td>\n",
       "      <td>1</td>\n",
       "      <td>0</td>\n",
       "      <td>0</td>\n",
       "      <td>0</td>\n",
       "      <td>0</td>\n",
       "      <td>0</td>\n",
       "      <td>0</td>\n",
       "      <td>0</td>\n",
       "      <td>0</td>\n",
       "      <td>0</td>\n",
       "      <td>0</td>\n",
       "      <td>0</td>\n",
       "    </tr>\n",
       "    <tr>\n",
       "      <th>157</th>\n",
       "      <td>Feb-04</td>\n",
       "      <td>1838</td>\n",
       "      <td>158</td>\n",
       "      <td>7.516433</td>\n",
       "      <td>24964</td>\n",
       "      <td>0</td>\n",
       "      <td>1</td>\n",
       "      <td>0</td>\n",
       "      <td>0</td>\n",
       "      <td>0</td>\n",
       "      <td>0</td>\n",
       "      <td>0</td>\n",
       "      <td>0</td>\n",
       "      <td>0</td>\n",
       "      <td>0</td>\n",
       "      <td>0</td>\n",
       "      <td>0</td>\n",
       "    </tr>\n",
       "    <tr>\n",
       "      <th>158</th>\n",
       "      <td>Mar-04</td>\n",
       "      <td>2132</td>\n",
       "      <td>159</td>\n",
       "      <td>7.664816</td>\n",
       "      <td>25281</td>\n",
       "      <td>0</td>\n",
       "      <td>0</td>\n",
       "      <td>1</td>\n",
       "      <td>0</td>\n",
       "      <td>0</td>\n",
       "      <td>0</td>\n",
       "      <td>0</td>\n",
       "      <td>0</td>\n",
       "      <td>0</td>\n",
       "      <td>0</td>\n",
       "      <td>0</td>\n",
       "      <td>0</td>\n",
       "    </tr>\n",
       "  </tbody>\n",
       "</table>\n",
       "<p>159 rows × 17 columns</p>\n",
       "</div>"
      ],
      "text/plain": [
       "      Month  Footfalls    t  log_footfalls  t_square  Jan  Feb  Mar  Apr  May  \\\n",
       "0    Jan-91       1709    1       7.443664         1    1    0    0    0    0   \n",
       "1    Feb-91       1621    2       7.390799         4    0    1    0    0    0   \n",
       "2    Mar-91       1973    3       7.587311         9    0    0    1    0    0   \n",
       "3    Apr-91       1812    4       7.502186        16    0    0    0    1    0   \n",
       "4    May-91       1975    5       7.588324        25    0    0    0    0    1   \n",
       "..      ...        ...  ...            ...       ...  ...  ...  ...  ...  ...   \n",
       "154  Nov-03       2076  155       7.638198     24025    0    0    0    0    0   \n",
       "155  Dec-03       2141  156       7.669028     24336    0    0    0    0    0   \n",
       "156  Jan-04       1832  157       7.513164     24649    1    0    0    0    0   \n",
       "157  Feb-04       1838  158       7.516433     24964    0    1    0    0    0   \n",
       "158  Mar-04       2132  159       7.664816     25281    0    0    1    0    0   \n",
       "\n",
       "     Jun  Jul  Aug  Sep  Oct  Nov  Dec  \n",
       "0      0    0    0    0    0    0    0  \n",
       "1      0    0    0    0    0    0    0  \n",
       "2      0    0    0    0    0    0    0  \n",
       "3      0    0    0    0    0    0    0  \n",
       "4      0    0    0    0    0    0    0  \n",
       "..   ...  ...  ...  ...  ...  ...  ...  \n",
       "154    0    0    0    0    0    1    0  \n",
       "155    0    0    0    0    0    0    1  \n",
       "156    0    0    0    0    0    0    0  \n",
       "157    0    0    0    0    0    0    0  \n",
       "158    0    0    0    0    0    0    0  \n",
       "\n",
       "[159 rows x 17 columns]"
      ]
     },
     "execution_count": 2,
     "metadata": {},
     "output_type": "execute_result"
    }
   ],
   "source": [
    "footfalls=pd.read_csv('footfalls.csv')\n",
    "footfalls"
   ]
  },
  {
   "cell_type": "code",
   "execution_count": 6,
   "id": "2870b8b6",
   "metadata": {},
   "outputs": [],
   "source": [
    "Train=footfalls[0:-12]\n",
    "Test=footfalls[-11:]"
   ]
  },
  {
   "cell_type": "code",
   "execution_count": 5,
   "id": "928975c2",
   "metadata": {},
   "outputs": [],
   "source": [
    "from statsmodels.tsa.holtwinters import SimpleExpSmoothing"
   ]
  },
  {
   "cell_type": "code",
   "execution_count": 10,
   "id": "d899be1e",
   "metadata": {},
   "outputs": [],
   "source": [
    "sep_model=SimpleExpSmoothing(Train['Footfalls']).fit()"
   ]
  },
  {
   "cell_type": "code",
   "execution_count": 14,
   "id": "9109f38f",
   "metadata": {},
   "outputs": [
    {
     "data": {
      "text/plain": [
       "148    1920.467863\n",
       "149    1920.467863\n",
       "150    1920.467863\n",
       "151    1920.467863\n",
       "152    1920.467863\n",
       "153    1920.467863\n",
       "154    1920.467863\n",
       "155    1920.467863\n",
       "156    1920.467863\n",
       "157    1920.467863\n",
       "158    1920.467863\n",
       "dtype: float64"
      ]
     },
     "execution_count": 14,
     "metadata": {},
     "output_type": "execute_result"
    }
   ],
   "source": [
    "sep_pred=sep_model.predict(start = Test.index[0],end = Test.index[-1])\n",
    "sep_pred"
   ]
  },
  {
   "cell_type": "code",
   "execution_count": 16,
   "id": "3e42ebfa",
   "metadata": {},
   "outputs": [],
   "source": [
    "import numpy as np"
   ]
  },
  {
   "cell_type": "code",
   "execution_count": 22,
   "id": "4d1df07c",
   "metadata": {},
   "outputs": [
    {
     "data": {
      "text/plain": [
       "192.18413360382343"
      ]
     },
     "execution_count": 22,
     "metadata": {},
     "output_type": "execute_result"
    }
   ],
   "source": [
    "rmse_sep=np.sqrt(np.mean((np.array(Test['Footfalls'])-np.array(sep_model.predict(start = Test.index[0],end = Test.index[-1])))**2))\n",
    "rmse_sep"
   ]
  },
  {
   "cell_type": "code",
   "execution_count": 18,
   "id": "a7d7e2b4",
   "metadata": {},
   "outputs": [],
   "source": [
    "from statsmodels.tsa.holtwinters import Holt"
   ]
  },
  {
   "cell_type": "code",
   "execution_count": 19,
   "id": "27646dfc",
   "metadata": {},
   "outputs": [],
   "source": [
    "holt_model=Holt(Train['Footfalls']).fit()"
   ]
  },
  {
   "cell_type": "code",
   "execution_count": 20,
   "id": "8ff58ae5",
   "metadata": {},
   "outputs": [
    {
     "data": {
      "text/plain": [
       "148    1948.613462\n",
       "149    1950.315440\n",
       "150    1952.017419\n",
       "151    1953.719397\n",
       "152    1955.421376\n",
       "153    1957.123355\n",
       "154    1958.825333\n",
       "155    1960.527312\n",
       "156    1962.229290\n",
       "157    1963.931269\n",
       "158    1965.633247\n",
       "dtype: float64"
      ]
     },
     "execution_count": 20,
     "metadata": {},
     "output_type": "execute_result"
    }
   ],
   "source": [
    "holt_pred=holt_model.predict(start = Test.index[0],end = Test.index[-1])\n",
    "holt_pred"
   ]
  },
  {
   "cell_type": "code",
   "execution_count": 23,
   "id": "3ec24791",
   "metadata": {},
   "outputs": [
    {
     "data": {
      "text/plain": [
       "168.67044106473867"
      ]
     },
     "execution_count": 23,
     "metadata": {},
     "output_type": "execute_result"
    }
   ],
   "source": [
    "rmse_holt=np.sqrt(np.mean((np.array(Test['Footfalls'])-np.array(holt_model.predict(start = Test.index[0],end = Test.index[-1])))**2))\n",
    "rmse_holt"
   ]
  },
  {
   "cell_type": "code",
   "execution_count": 24,
   "id": "fbf7707d",
   "metadata": {},
   "outputs": [],
   "source": [
    "from statsmodels.tsa.holtwinters import ExponentialSmoothing "
   ]
  },
  {
   "cell_type": "code",
   "execution_count": 25,
   "id": "f3924d7f",
   "metadata": {},
   "outputs": [],
   "source": [
    "hwe_model_add_add = ExponentialSmoothing(Train[\"Footfalls\"],seasonal=\"add\",trend=\"add\",seasonal_periods=12).fit() #add the trend to the model\n",
    "pred_hwe_add_add = hwe_model_add_add.predict(start = Test.index[0],end = Test.index[-1])"
   ]
  },
  {
   "cell_type": "code",
   "execution_count": 26,
   "id": "1e2ba806",
   "metadata": {},
   "outputs": [
    {
     "data": {
      "text/plain": [
       "49.70217149539628"
      ]
     },
     "execution_count": 26,
     "metadata": {},
     "output_type": "execute_result"
    }
   ],
   "source": [
    "rmse_hwe_model_add_add=np.sqrt(np.mean((np.array(Test['Footfalls'])-np.array(hwe_model_add_add.predict(start = Test.index[0],end = Test.index[-1])))**2))\n",
    "rmse_hwe_model_add_add"
   ]
  },
  {
   "cell_type": "code",
   "execution_count": 27,
   "id": "82ed9e74",
   "metadata": {},
   "outputs": [],
   "source": [
    "hwe_model_mul_add = ExponentialSmoothing(Train[\"Footfalls\"],seasonal=\"mul\",trend=\"add\",seasonal_periods=12).fit() \n",
    "pred_hwe_mul_add = hwe_model_mul_add.predict(start = Test.index[0],end = Test.index[-1])"
   ]
  },
  {
   "cell_type": "code",
   "execution_count": 28,
   "id": "e6c64484",
   "metadata": {},
   "outputs": [
    {
     "data": {
      "text/plain": [
       "69.45360138909086"
      ]
     },
     "execution_count": 28,
     "metadata": {},
     "output_type": "execute_result"
    }
   ],
   "source": [
    "rmse_hwe_model_mul_add=np.sqrt(np.mean((np.array(Test['Footfalls'])-np.array(hwe_model_mul_add.predict(start = Test.index[0],end = Test.index[-1])))**2))\n",
    "rmse_hwe_model_mul_add"
   ]
  },
  {
   "cell_type": "markdown",
   "id": "8881fd39",
   "metadata": {},
   "source": [
    "### Final Model"
   ]
  },
  {
   "cell_type": "code",
   "execution_count": 29,
   "id": "2b782e79",
   "metadata": {},
   "outputs": [],
   "source": [
    "hwe_model_add_add = ExponentialSmoothing(footfalls[\"Footfalls\"],seasonal=\"add\",trend=\"add\",seasonal_periods=12).fit()"
   ]
  },
  {
   "cell_type": "code",
   "execution_count": 31,
   "id": "ec4260e9",
   "metadata": {},
   "outputs": [
    {
     "data": {
      "text/plain": [
       "159    2153.270022\n",
       "160    2180.806271\n",
       "161    2155.360593\n",
       "162    2244.062090\n",
       "163    2274.339502\n",
       "164    1965.419562\n",
       "165    2125.253616\n",
       "166    2106.353304\n",
       "167    2152.544112\n",
       "168    1903.654840\n",
       "dtype: float64"
      ]
     },
     "execution_count": 31,
     "metadata": {},
     "output_type": "execute_result"
    }
   ],
   "source": [
    "forecast_hwe_model_add_add=hwe_model_add_add.forecast(10)\n",
    "forecast_hwe_model_add_add"
   ]
  },
  {
   "cell_type": "code",
   "execution_count": null,
   "id": "dd352cdc",
   "metadata": {},
   "outputs": [],
   "source": []
  }
 ],
 "metadata": {
  "kernelspec": {
   "display_name": "Python 3 (ipykernel)",
   "language": "python",
   "name": "python3"
  },
  "language_info": {
   "codemirror_mode": {
    "name": "ipython",
    "version": 3
   },
   "file_extension": ".py",
   "mimetype": "text/x-python",
   "name": "python",
   "nbconvert_exporter": "python",
   "pygments_lexer": "ipython3",
   "version": "3.9.13"
  }
 },
 "nbformat": 4,
 "nbformat_minor": 5
}
