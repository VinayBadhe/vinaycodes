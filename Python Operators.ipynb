{
 "cells": [
  {
   "cell_type": "markdown",
   "id": "a8f62ada",
   "metadata": {},
   "source": [
    "## Arithmetic Operators"
   ]
  },
  {
   "cell_type": "code",
   "execution_count": 1,
   "id": "f4113538",
   "metadata": {
    "scrolled": true
   },
   "outputs": [
    {
     "data": {
      "text/plain": [
       "8"
      ]
     },
     "execution_count": 1,
     "metadata": {},
     "output_type": "execute_result"
    }
   ],
   "source": [
    "3+5 "
   ]
  },
  {
   "cell_type": "code",
   "execution_count": 2,
   "id": "a04819b7",
   "metadata": {},
   "outputs": [
    {
     "data": {
      "text/plain": [
       "17"
      ]
     },
     "execution_count": 2,
     "metadata": {},
     "output_type": "execute_result"
    }
   ],
   "source": [
    "25-8 "
   ]
  },
  {
   "cell_type": "code",
   "execution_count": 3,
   "id": "cbf922c8",
   "metadata": {},
   "outputs": [
    {
     "data": {
      "text/plain": [
       "14.666666666666666"
      ]
     },
     "execution_count": 3,
     "metadata": {},
     "output_type": "execute_result"
    }
   ],
   "source": [
    "88/6 "
   ]
  },
  {
   "cell_type": "code",
   "execution_count": 6,
   "id": "00f11879",
   "metadata": {},
   "outputs": [
    {
     "data": {
      "text/plain": [
       "-246.0315"
      ]
     },
     "execution_count": 6,
     "metadata": {},
     "output_type": "execute_result"
    }
   ],
   "source": [
    "44.33*-5.55 "
   ]
  },
  {
   "cell_type": "code",
   "execution_count": 7,
   "id": "038193f7",
   "metadata": {},
   "outputs": [
    {
     "data": {
      "text/plain": [
       "4"
      ]
     },
     "execution_count": 7,
     "metadata": {},
     "output_type": "execute_result"
    }
   ],
   "source": [
    "14//3 #Floor Division"
   ]
  },
  {
   "cell_type": "code",
   "execution_count": 10,
   "id": "969d2628",
   "metadata": {},
   "outputs": [
    {
     "data": {
      "text/plain": [
       "2"
      ]
     },
     "execution_count": 10,
     "metadata": {},
     "output_type": "execute_result"
    }
   ],
   "source": [
    "14%3 #Modulus/Remainder"
   ]
  },
  {
   "cell_type": "code",
   "execution_count": 11,
   "id": "04a4512f",
   "metadata": {},
   "outputs": [
    {
     "data": {
      "text/plain": [
       "125"
      ]
     },
     "execution_count": 11,
     "metadata": {},
     "output_type": "execute_result"
    }
   ],
   "source": [
    "5**3 #Exponential"
   ]
  },
  {
   "cell_type": "markdown",
   "id": "c438579d",
   "metadata": {},
   "source": [
    "## Solving multi-step problems using variables"
   ]
  },
  {
   "cell_type": "markdown",
   "id": "679e1ab3",
   "metadata": {},
   "source": [
    "### A grocery store sells a bag of ice for $1.25 and makes a 20% profit. If it sells 500 bags of ice, how much total profit does it make?"
   ]
  },
  {
   "cell_type": "code",
   "execution_count": 13,
   "id": "20821860",
   "metadata": {},
   "outputs": [],
   "source": [
    "cost_of_ice_bag = 1.25"
   ]
  },
  {
   "cell_type": "code",
   "execution_count": 14,
   "id": "ce764386",
   "metadata": {},
   "outputs": [],
   "source": [
    "profit_margin = .2"
   ]
  },
  {
   "cell_type": "code",
   "execution_count": 15,
   "id": "93fb83b2",
   "metadata": {},
   "outputs": [],
   "source": [
    "number_of_bags = 500"
   ]
  },
  {
   "cell_type": "code",
   "execution_count": 17,
   "id": "f7d75e43",
   "metadata": {},
   "outputs": [
    {
     "data": {
      "text/plain": [
       "0.25"
      ]
     },
     "execution_count": 17,
     "metadata": {},
     "output_type": "execute_result"
    }
   ],
   "source": [
    "profit_per_bag = cost_of_ice_bag * profit_margin\n",
    "profit_per_bag"
   ]
  },
  {
   "cell_type": "code",
   "execution_count": 18,
   "id": "70f14d32",
   "metadata": {},
   "outputs": [
    {
     "data": {
      "text/plain": [
       "125.0"
      ]
     },
     "execution_count": 18,
     "metadata": {},
     "output_type": "execute_result"
    }
   ],
   "source": [
    "total_profit = number_of_bags * profit_per_bag\n",
    "total_profit"
   ]
  },
  {
   "cell_type": "code",
   "execution_count": 24,
   "id": "7d806b65",
   "metadata": {},
   "outputs": [
    {
     "name": "stdout",
     "output_type": "stream",
     "text": [
      "Total profit of grocery store is 125.0\n"
     ]
    }
   ],
   "source": [
    "print('Total profit of grocery store is',total_profit,)"
   ]
  },
  {
   "cell_type": "markdown",
   "id": "01ea346e",
   "metadata": {},
   "source": [
    "### Let's rewrite the solution to our word problem within a single cell."
   ]
  },
  {
   "cell_type": "code",
   "execution_count": 25,
   "id": "9849ea54",
   "metadata": {},
   "outputs": [
    {
     "name": "stdout",
     "output_type": "stream",
     "text": [
      "The grocery store makes a total profit of $ 125.0\n"
     ]
    }
   ],
   "source": [
    "# Store input data in variables\n",
    "cost_of_ice_bag = 1.25\n",
    "profit_margin = .2\n",
    "number_of_bags = 500\n",
    "\n",
    "# Perform the required calculations\n",
    "profit_per_bag = cost_of_ice_bag * profit_margin\n",
    "total_profit = number_of_bags * profit_per_bag\n",
    "\n",
    "# Display the result\n",
    "print(\"The grocery store makes a total profit of $\", total_profit)"
   ]
  },
  {
   "cell_type": "markdown",
   "id": "2e9c1c55",
   "metadata": {},
   "source": [
    "## Evaluating conditions using Python"
   ]
  },
  {
   "cell_type": "code",
   "execution_count": 26,
   "id": "9f37b62d",
   "metadata": {},
   "outputs": [],
   "source": [
    "a=10\n",
    "b=6\n",
    "c=21"
   ]
  },
  {
   "cell_type": "code",
   "execution_count": 27,
   "id": "115f2d8f",
   "metadata": {},
   "outputs": [
    {
     "data": {
      "text/plain": [
       "False"
      ]
     },
     "execution_count": 27,
     "metadata": {},
     "output_type": "execute_result"
    }
   ],
   "source": [
    "a==1"
   ]
  },
  {
   "cell_type": "code",
   "execution_count": 28,
   "id": "67cba2ea",
   "metadata": {},
   "outputs": [
    {
     "data": {
      "text/plain": [
       "True"
      ]
     },
     "execution_count": 28,
     "metadata": {},
     "output_type": "execute_result"
    }
   ],
   "source": [
    "a!=8"
   ]
  },
  {
   "cell_type": "code",
   "execution_count": 29,
   "id": "e1af9d30",
   "metadata": {},
   "outputs": [
    {
     "data": {
      "text/plain": [
       "False"
      ]
     },
     "execution_count": 29,
     "metadata": {},
     "output_type": "execute_result"
    }
   ],
   "source": [
    "b>c"
   ]
  },
  {
   "cell_type": "code",
   "execution_count": 30,
   "id": "bf32f1c6",
   "metadata": {},
   "outputs": [
    {
     "data": {
      "text/plain": [
       "True"
      ]
     },
     "execution_count": 30,
     "metadata": {},
     "output_type": "execute_result"
    }
   ],
   "source": [
    "a<c"
   ]
  },
  {
   "cell_type": "code",
   "execution_count": 31,
   "id": "54f29bc1",
   "metadata": {},
   "outputs": [
    {
     "data": {
      "text/plain": [
       "False"
      ]
     },
     "execution_count": 31,
     "metadata": {},
     "output_type": "execute_result"
    }
   ],
   "source": [
    "a<=b"
   ]
  },
  {
   "cell_type": "code",
   "execution_count": 32,
   "id": "fce12985",
   "metadata": {},
   "outputs": [
    {
     "data": {
      "text/plain": [
       "True"
      ]
     },
     "execution_count": 32,
     "metadata": {},
     "output_type": "execute_result"
    }
   ],
   "source": [
    "a>=b"
   ]
  },
  {
   "cell_type": "markdown",
   "id": "789bfc16",
   "metadata": {},
   "source": [
    "## Combining conditions with logical operators"
   ]
  },
  {
   "cell_type": "code",
   "execution_count": 35,
   "id": "d6fc9c15",
   "metadata": {},
   "outputs": [
    {
     "data": {
      "text/plain": [
       "True"
      ]
     },
     "execution_count": 35,
     "metadata": {},
     "output_type": "execute_result"
    }
   ],
   "source": [
    "a+b==16 and b!=11"
   ]
  },
  {
   "cell_type": "code",
   "execution_count": 36,
   "id": "155e1efb",
   "metadata": {},
   "outputs": [
    {
     "data": {
      "text/plain": [
       "False"
      ]
     },
     "execution_count": 36,
     "metadata": {},
     "output_type": "execute_result"
    }
   ],
   "source": [
    "a*c<200 or a==6"
   ]
  },
  {
   "cell_type": "code",
   "execution_count": 37,
   "id": "05d5199a",
   "metadata": {},
   "outputs": [
    {
     "data": {
      "text/plain": [
       "True"
      ]
     },
     "execution_count": 37,
     "metadata": {},
     "output_type": "execute_result"
    }
   ],
   "source": [
    "b*c==126 and b!=15"
   ]
  },
  {
   "cell_type": "code",
   "execution_count": null,
   "id": "4489c03a",
   "metadata": {},
   "outputs": [],
   "source": []
  }
 ],
 "metadata": {
  "kernelspec": {
   "display_name": "Python 3 (ipykernel)",
   "language": "python",
   "name": "python3"
  },
  "language_info": {
   "codemirror_mode": {
    "name": "ipython",
    "version": 3
   },
   "file_extension": ".py",
   "mimetype": "text/x-python",
   "name": "python",
   "nbconvert_exporter": "python",
   "pygments_lexer": "ipython3",
   "version": "3.9.13"
  }
 },
 "nbformat": 4,
 "nbformat_minor": 5
}
