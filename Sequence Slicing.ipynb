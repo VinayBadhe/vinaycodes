{
 "cells": [
  {
   "cell_type": "markdown",
   "id": "fc562fc1",
   "metadata": {},
   "source": [
    "### Strings"
   ]
  },
  {
   "cell_type": "code",
   "execution_count": 2,
   "id": "c18ca554",
   "metadata": {},
   "outputs": [],
   "source": [
    "string_sample='learning'"
   ]
  },
  {
   "cell_type": "code",
   "execution_count": 3,
   "id": "ba30770c",
   "metadata": {},
   "outputs": [
    {
     "data": {
      "text/plain": [
       "'er'"
      ]
     },
     "execution_count": 3,
     "metadata": {},
     "output_type": "execute_result"
    }
   ],
   "source": [
    "string_sample[slice(1,4,2)]"
   ]
  },
  {
   "cell_type": "code",
   "execution_count": 4,
   "id": "a9b09092",
   "metadata": {},
   "outputs": [
    {
     "data": {
      "text/plain": [
       "'learning'"
      ]
     },
     "execution_count": 4,
     "metadata": {},
     "output_type": "execute_result"
    }
   ],
   "source": [
    "string_sample[:]"
   ]
  },
  {
   "cell_type": "code",
   "execution_count": 5,
   "id": "4c5625c4",
   "metadata": {},
   "outputs": [
    {
     "data": {
      "text/plain": [
       "'arning'"
      ]
     },
     "execution_count": 5,
     "metadata": {},
     "output_type": "execute_result"
    }
   ],
   "source": [
    "string_sample[2:]"
   ]
  },
  {
   "cell_type": "markdown",
   "id": "9897b591",
   "metadata": {},
   "source": [
    "### Lists"
   ]
  },
  {
   "cell_type": "code",
   "execution_count": 7,
   "id": "7aff036a",
   "metadata": {},
   "outputs": [],
   "source": [
    "list_sample=[1,2,3,3,4,5,'a','t']"
   ]
  },
  {
   "cell_type": "code",
   "execution_count": 8,
   "id": "36650616",
   "metadata": {},
   "outputs": [
    {
     "data": {
      "text/plain": [
       "[2, 3, 3, 4, 5, 'a']"
      ]
     },
     "execution_count": 8,
     "metadata": {},
     "output_type": "execute_result"
    }
   ],
   "source": [
    "list_sample[1:-1]"
   ]
  },
  {
   "cell_type": "markdown",
   "id": "79b4c9ba",
   "metadata": {},
   "source": [
    "### Array"
   ]
  },
  {
   "cell_type": "code",
   "execution_count": 9,
   "id": "43ab1e87",
   "metadata": {},
   "outputs": [],
   "source": [
    "from array import *"
   ]
  },
  {
   "cell_type": "code",
   "execution_count": 10,
   "id": "77fa0081",
   "metadata": {},
   "outputs": [],
   "source": [
    "array_sample=array('i',[1,2,3,4])"
   ]
  },
  {
   "cell_type": "code",
   "execution_count": 11,
   "id": "ab9a707e",
   "metadata": {},
   "outputs": [
    {
     "name": "stdout",
     "output_type": "stream",
     "text": [
      "array('i', [1, 2, 3, 4])\n"
     ]
    }
   ],
   "source": [
    "print(array_sample)"
   ]
  },
  {
   "cell_type": "code",
   "execution_count": 12,
   "id": "e97c8729",
   "metadata": {},
   "outputs": [
    {
     "name": "stdout",
     "output_type": "stream",
     "text": [
      "1\n",
      "2\n",
      "3\n",
      "4\n"
     ]
    }
   ],
   "source": [
    "for x in array_sample:\n",
    "    print(x)"
   ]
  },
  {
   "cell_type": "code",
   "execution_count": 13,
   "id": "3458b953",
   "metadata": {},
   "outputs": [
    {
     "data": {
      "text/plain": [
       "array('i', [1, 2])"
      ]
     },
     "execution_count": 13,
     "metadata": {},
     "output_type": "execute_result"
    }
   ],
   "source": [
    "array_sample[:2]"
   ]
  },
  {
   "cell_type": "markdown",
   "id": "a63b99f0",
   "metadata": {},
   "source": [
    "### Tuple"
   ]
  },
  {
   "cell_type": "code",
   "execution_count": 14,
   "id": "1c912611",
   "metadata": {},
   "outputs": [
    {
     "data": {
      "text/plain": [
       "(1, 2, 5, 5, 8, 'a', 'v')"
      ]
     },
     "execution_count": 14,
     "metadata": {},
     "output_type": "execute_result"
    }
   ],
   "source": [
    "tuple_sample=(1,2,5,5,8,'a','v')\n",
    "tuple_sample"
   ]
  },
  {
   "cell_type": "code",
   "execution_count": 15,
   "id": "60c54424",
   "metadata": {},
   "outputs": [
    {
     "data": {
      "text/plain": [
       "(2, 5, 5, 8, 'a', 'v')"
      ]
     },
     "execution_count": 15,
     "metadata": {},
     "output_type": "execute_result"
    }
   ],
   "source": [
    "tuple_sample[1:]"
   ]
  },
  {
   "cell_type": "markdown",
   "id": "e69d1894",
   "metadata": {},
   "source": [
    "### Dictionary  ( Slicing cannot be done)"
   ]
  },
  {
   "cell_type": "code",
   "execution_count": 16,
   "id": "ba4b338d",
   "metadata": {},
   "outputs": [
    {
     "data": {
      "text/plain": [
       "{1: 'vinay', 'two': 'Preetam', 3: 'Tanvi'}"
      ]
     },
     "execution_count": 16,
     "metadata": {},
     "output_type": "execute_result"
    }
   ],
   "source": [
    "dict_sample={1:'vinay','two':'Preetam',3:'Tanvi'}\n",
    "dict_sample"
   ]
  },
  {
   "cell_type": "code",
   "execution_count": 17,
   "id": "0c2aa33f",
   "metadata": {},
   "outputs": [
    {
     "ename": "TypeError",
     "evalue": "unhashable type: 'slice'",
     "output_type": "error",
     "traceback": [
      "\u001b[1;31m---------------------------------------------------------------------------\u001b[0m",
      "\u001b[1;31mTypeError\u001b[0m                                 Traceback (most recent call last)",
      "\u001b[1;32m~\\AppData\\Local\\Temp\\ipykernel_20368\\2218380653.py\u001b[0m in \u001b[0;36m<module>\u001b[1;34m\u001b[0m\n\u001b[1;32m----> 1\u001b[1;33m \u001b[0mdict_sample\u001b[0m\u001b[1;33m[\u001b[0m\u001b[1;36m1\u001b[0m\u001b[1;33m:\u001b[0m\u001b[1;33m]\u001b[0m\u001b[1;33m\u001b[0m\u001b[1;33m\u001b[0m\u001b[0m\n\u001b[0m",
      "\u001b[1;31mTypeError\u001b[0m: unhashable type: 'slice'"
     ]
    }
   ],
   "source": [
    "dict_sample[1:]"
   ]
  },
  {
   "cell_type": "markdown",
   "id": "82fd314d",
   "metadata": {},
   "source": [
    "### Set  ( Slicing cannot be done)"
   ]
  },
  {
   "cell_type": "code",
   "execution_count": 18,
   "id": "46fd26db",
   "metadata": {},
   "outputs": [
    {
     "data": {
      "text/plain": [
       "{2, 226, 8, 'p', 'vinay'}"
      ]
     },
     "execution_count": 18,
     "metadata": {},
     "output_type": "execute_result"
    }
   ],
   "source": [
    "set_sample={'vinay',2,8,226,\"p\"}\n",
    "set_sample"
   ]
  },
  {
   "cell_type": "code",
   "execution_count": 19,
   "id": "64c61cd4",
   "metadata": {},
   "outputs": [
    {
     "ename": "TypeError",
     "evalue": "'set' object is not subscriptable",
     "output_type": "error",
     "traceback": [
      "\u001b[1;31m---------------------------------------------------------------------------\u001b[0m",
      "\u001b[1;31mTypeError\u001b[0m                                 Traceback (most recent call last)",
      "\u001b[1;32m~\\AppData\\Local\\Temp\\ipykernel_20368\\1625008299.py\u001b[0m in \u001b[0;36m<module>\u001b[1;34m\u001b[0m\n\u001b[1;32m----> 1\u001b[1;33m \u001b[0mset_sample\u001b[0m\u001b[1;33m[\u001b[0m\u001b[1;36m2\u001b[0m\u001b[1;33m:\u001b[0m\u001b[1;33m-\u001b[0m\u001b[1;36m1\u001b[0m\u001b[1;33m]\u001b[0m\u001b[1;33m\u001b[0m\u001b[1;33m\u001b[0m\u001b[0m\n\u001b[0m",
      "\u001b[1;31mTypeError\u001b[0m: 'set' object is not subscriptable"
     ]
    }
   ],
   "source": [
    "set_sample[2:-1]"
   ]
  },
  {
   "cell_type": "markdown",
   "id": "f8d92e37",
   "metadata": {},
   "source": [
    "### Range"
   ]
  },
  {
   "cell_type": "code",
   "execution_count": 20,
   "id": "8ac1ac11",
   "metadata": {},
   "outputs": [],
   "source": [
    "range_sample=range(1,12,4)"
   ]
  },
  {
   "cell_type": "code",
   "execution_count": 21,
   "id": "73b7c57d",
   "metadata": {},
   "outputs": [
    {
     "data": {
      "text/plain": [
       "range(1, 12, 4)"
      ]
     },
     "execution_count": 21,
     "metadata": {},
     "output_type": "execute_result"
    }
   ],
   "source": [
    "range_sample"
   ]
  },
  {
   "cell_type": "code",
   "execution_count": 22,
   "id": "cebfeced",
   "metadata": {},
   "outputs": [
    {
     "name": "stdout",
     "output_type": "stream",
     "text": [
      "1\n",
      "5\n",
      "9\n"
     ]
    }
   ],
   "source": [
    "for i in range_sample:\n",
    "    print(i)"
   ]
  },
  {
   "cell_type": "code",
   "execution_count": 23,
   "id": "60aad557",
   "metadata": {},
   "outputs": [
    {
     "data": {
      "text/plain": [
       "range(1, 5, 4)"
      ]
     },
     "execution_count": 23,
     "metadata": {},
     "output_type": "execute_result"
    }
   ],
   "source": [
    "range_sample[:-2]"
   ]
  }
 ],
 "metadata": {
  "kernelspec": {
   "display_name": "Python 3 (ipykernel)",
   "language": "python",
   "name": "python3"
  },
  "language_info": {
   "codemirror_mode": {
    "name": "ipython",
    "version": 3
   },
   "file_extension": ".py",
   "mimetype": "text/x-python",
   "name": "python",
   "nbconvert_exporter": "python",
   "pygments_lexer": "ipython3",
   "version": "3.9.13"
  }
 },
 "nbformat": 4,
 "nbformat_minor": 5
}
