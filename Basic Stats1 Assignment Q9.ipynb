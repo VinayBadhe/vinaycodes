{
 "cells": [
  {
   "cell_type": "code",
   "execution_count": 1,
   "id": "7bb0a76f",
   "metadata": {},
   "outputs": [],
   "source": [
    "import numpy as np\n",
    "import pandas as pd"
   ]
  },
  {
   "cell_type": "code",
   "execution_count": 2,
   "id": "0fafcc37",
   "metadata": {},
   "outputs": [
    {
     "data": {
      "text/html": [
       "<div>\n",
       "<style scoped>\n",
       "    .dataframe tbody tr th:only-of-type {\n",
       "        vertical-align: middle;\n",
       "    }\n",
       "\n",
       "    .dataframe tbody tr th {\n",
       "        vertical-align: top;\n",
       "    }\n",
       "\n",
       "    .dataframe thead th {\n",
       "        text-align: right;\n",
       "    }\n",
       "</style>\n",
       "<table border=\"1\" class=\"dataframe\">\n",
       "  <thead>\n",
       "    <tr style=\"text-align: right;\">\n",
       "      <th></th>\n",
       "      <th>Index</th>\n",
       "      <th>speed</th>\n",
       "      <th>dist</th>\n",
       "    </tr>\n",
       "  </thead>\n",
       "  <tbody>\n",
       "    <tr>\n",
       "      <th>0</th>\n",
       "      <td>1</td>\n",
       "      <td>4</td>\n",
       "      <td>2</td>\n",
       "    </tr>\n",
       "    <tr>\n",
       "      <th>1</th>\n",
       "      <td>2</td>\n",
       "      <td>4</td>\n",
       "      <td>10</td>\n",
       "    </tr>\n",
       "    <tr>\n",
       "      <th>2</th>\n",
       "      <td>3</td>\n",
       "      <td>7</td>\n",
       "      <td>4</td>\n",
       "    </tr>\n",
       "    <tr>\n",
       "      <th>3</th>\n",
       "      <td>4</td>\n",
       "      <td>7</td>\n",
       "      <td>22</td>\n",
       "    </tr>\n",
       "    <tr>\n",
       "      <th>4</th>\n",
       "      <td>5</td>\n",
       "      <td>8</td>\n",
       "      <td>16</td>\n",
       "    </tr>\n",
       "  </tbody>\n",
       "</table>\n",
       "</div>"
      ],
      "text/plain": [
       "   Index  speed  dist\n",
       "0      1      4     2\n",
       "1      2      4    10\n",
       "2      3      7     4\n",
       "3      4      7    22\n",
       "4      5      8    16"
      ]
     },
     "execution_count": 2,
     "metadata": {},
     "output_type": "execute_result"
    }
   ],
   "source": [
    "q9a_data=pd.read_csv('Q9_a.csv')\n",
    "q9a_data.head()"
   ]
  },
  {
   "cell_type": "code",
   "execution_count": 4,
   "id": "565e75f8",
   "metadata": {},
   "outputs": [
    {
     "data": {
      "text/plain": [
       "-0.5089944204057617"
      ]
     },
     "execution_count": 4,
     "metadata": {},
     "output_type": "execute_result"
    }
   ],
   "source": [
    "q9a_data['speed'].kurtosis()"
   ]
  },
  {
   "cell_type": "code",
   "execution_count": 6,
   "id": "6556bfa9",
   "metadata": {},
   "outputs": [
    {
     "data": {
      "text/plain": [
       "-0.11750986144663393"
      ]
     },
     "execution_count": 6,
     "metadata": {},
     "output_type": "execute_result"
    }
   ],
   "source": [
    "q9a_data['speed'].skew()"
   ]
  },
  {
   "cell_type": "code",
   "execution_count": 7,
   "id": "7078cafc",
   "metadata": {},
   "outputs": [
    {
     "data": {
      "text/plain": [
       "0.4050525816795765"
      ]
     },
     "execution_count": 7,
     "metadata": {},
     "output_type": "execute_result"
    }
   ],
   "source": [
    "q9a_data['dist'].kurtosis()"
   ]
  },
  {
   "cell_type": "code",
   "execution_count": 9,
   "id": "e671e76a",
   "metadata": {},
   "outputs": [
    {
     "data": {
      "text/plain": [
       "0.8068949601674215"
      ]
     },
     "execution_count": 9,
     "metadata": {},
     "output_type": "execute_result"
    }
   ],
   "source": [
    "q9a_data['dist'].skew()"
   ]
  },
  {
   "cell_type": "code",
   "execution_count": 10,
   "id": "b6ca903d",
   "metadata": {},
   "outputs": [
    {
     "data": {
      "text/html": [
       "<div>\n",
       "<style scoped>\n",
       "    .dataframe tbody tr th:only-of-type {\n",
       "        vertical-align: middle;\n",
       "    }\n",
       "\n",
       "    .dataframe tbody tr th {\n",
       "        vertical-align: top;\n",
       "    }\n",
       "\n",
       "    .dataframe thead th {\n",
       "        text-align: right;\n",
       "    }\n",
       "</style>\n",
       "<table border=\"1\" class=\"dataframe\">\n",
       "  <thead>\n",
       "    <tr style=\"text-align: right;\">\n",
       "      <th></th>\n",
       "      <th>Unnamed: 0</th>\n",
       "      <th>SP</th>\n",
       "      <th>WT</th>\n",
       "    </tr>\n",
       "  </thead>\n",
       "  <tbody>\n",
       "    <tr>\n",
       "      <th>0</th>\n",
       "      <td>1</td>\n",
       "      <td>104.185353</td>\n",
       "      <td>28.762059</td>\n",
       "    </tr>\n",
       "    <tr>\n",
       "      <th>1</th>\n",
       "      <td>2</td>\n",
       "      <td>105.461264</td>\n",
       "      <td>30.466833</td>\n",
       "    </tr>\n",
       "    <tr>\n",
       "      <th>2</th>\n",
       "      <td>3</td>\n",
       "      <td>105.461264</td>\n",
       "      <td>30.193597</td>\n",
       "    </tr>\n",
       "    <tr>\n",
       "      <th>3</th>\n",
       "      <td>4</td>\n",
       "      <td>113.461264</td>\n",
       "      <td>30.632114</td>\n",
       "    </tr>\n",
       "    <tr>\n",
       "      <th>4</th>\n",
       "      <td>5</td>\n",
       "      <td>104.461264</td>\n",
       "      <td>29.889149</td>\n",
       "    </tr>\n",
       "  </tbody>\n",
       "</table>\n",
       "</div>"
      ],
      "text/plain": [
       "   Unnamed: 0          SP         WT\n",
       "0           1  104.185353  28.762059\n",
       "1           2  105.461264  30.466833\n",
       "2           3  105.461264  30.193597\n",
       "3           4  113.461264  30.632114\n",
       "4           5  104.461264  29.889149"
      ]
     },
     "execution_count": 10,
     "metadata": {},
     "output_type": "execute_result"
    }
   ],
   "source": [
    "q9b_data=pd.read_csv('Q9_b.csv')\n",
    "q9b_data.head()"
   ]
  },
  {
   "cell_type": "code",
   "execution_count": 13,
   "id": "dbf98e41",
   "metadata": {},
   "outputs": [
    {
     "data": {
      "text/plain": [
       "2.9773289437871835"
      ]
     },
     "execution_count": 13,
     "metadata": {},
     "output_type": "execute_result"
    }
   ],
   "source": [
    "q9b_data['SP'].kurtosis()"
   ]
  },
  {
   "cell_type": "code",
   "execution_count": 14,
   "id": "64baf403",
   "metadata": {},
   "outputs": [
    {
     "data": {
      "text/plain": [
       "1.6114501961773586"
      ]
     },
     "execution_count": 14,
     "metadata": {},
     "output_type": "execute_result"
    }
   ],
   "source": [
    "q9b_data['SP'].skew()"
   ]
  },
  {
   "cell_type": "code",
   "execution_count": 15,
   "id": "3168a25a",
   "metadata": {},
   "outputs": [
    {
     "data": {
      "text/plain": [
       "0.9502914910300326"
      ]
     },
     "execution_count": 15,
     "metadata": {},
     "output_type": "execute_result"
    }
   ],
   "source": [
    "q9b_data['WT'].kurtosis()"
   ]
  },
  {
   "cell_type": "code",
   "execution_count": 16,
   "id": "48b125b7",
   "metadata": {},
   "outputs": [
    {
     "data": {
      "text/plain": [
       "-0.6147533255357768"
      ]
     },
     "execution_count": 16,
     "metadata": {},
     "output_type": "execute_result"
    }
   ],
   "source": [
    "q9b_data['WT'].skew()"
   ]
  },
  {
   "cell_type": "code",
   "execution_count": null,
   "id": "ed0d610f",
   "metadata": {},
   "outputs": [],
   "source": []
  }
 ],
 "metadata": {
  "kernelspec": {
   "display_name": "Python 3 (ipykernel)",
   "language": "python",
   "name": "python3"
  },
  "language_info": {
   "codemirror_mode": {
    "name": "ipython",
    "version": 3
   },
   "file_extension": ".py",
   "mimetype": "text/x-python",
   "name": "python",
   "nbconvert_exporter": "python",
   "pygments_lexer": "ipython3",
   "version": "3.9.13"
  }
 },
 "nbformat": 4,
 "nbformat_minor": 5
}
