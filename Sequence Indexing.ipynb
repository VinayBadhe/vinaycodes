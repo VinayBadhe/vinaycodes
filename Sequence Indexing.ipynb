{
 "cells": [
  {
   "cell_type": "markdown",
   "id": "fc562fc1",
   "metadata": {},
   "source": [
    "### Strings"
   ]
  },
  {
   "cell_type": "code",
   "execution_count": 2,
   "id": "c18ca554",
   "metadata": {},
   "outputs": [],
   "source": [
    "string_sample='learning'"
   ]
  },
  {
   "cell_type": "code",
   "execution_count": 5,
   "id": "ba30770c",
   "metadata": {},
   "outputs": [
    {
     "data": {
      "text/plain": [
       "3"
      ]
     },
     "execution_count": 5,
     "metadata": {},
     "output_type": "execute_result"
    }
   ],
   "source": [
    "string_sample.index('r')"
   ]
  },
  {
   "cell_type": "code",
   "execution_count": 6,
   "id": "a9b09092",
   "metadata": {},
   "outputs": [
    {
     "data": {
      "text/plain": [
       "'n'"
      ]
     },
     "execution_count": 6,
     "metadata": {},
     "output_type": "execute_result"
    }
   ],
   "source": [
    "string_sample[4]"
   ]
  },
  {
   "cell_type": "code",
   "execution_count": 8,
   "id": "4c5625c4",
   "metadata": {},
   "outputs": [
    {
     "data": {
      "text/plain": [
       "'i'"
      ]
     },
     "execution_count": 8,
     "metadata": {},
     "output_type": "execute_result"
    }
   ],
   "source": [
    "string_sample[-3]"
   ]
  },
  {
   "cell_type": "markdown",
   "id": "9897b591",
   "metadata": {},
   "source": [
    "### Lists"
   ]
  },
  {
   "cell_type": "code",
   "execution_count": 9,
   "id": "7aff036a",
   "metadata": {},
   "outputs": [],
   "source": [
    "list_sample=[1,2,3,3,4,5,'a','t']"
   ]
  },
  {
   "cell_type": "code",
   "execution_count": 11,
   "id": "36650616",
   "metadata": {},
   "outputs": [
    {
     "data": {
      "text/plain": [
       "5"
      ]
     },
     "execution_count": 11,
     "metadata": {},
     "output_type": "execute_result"
    }
   ],
   "source": [
    "list_sample.index(5)"
   ]
  },
  {
   "cell_type": "code",
   "execution_count": 12,
   "id": "38841ec1",
   "metadata": {},
   "outputs": [
    {
     "data": {
      "text/plain": [
       "'a'"
      ]
     },
     "execution_count": 12,
     "metadata": {},
     "output_type": "execute_result"
    }
   ],
   "source": [
    "list_sample[6]"
   ]
  },
  {
   "cell_type": "markdown",
   "id": "79b4c9ba",
   "metadata": {},
   "source": [
    "### Array"
   ]
  },
  {
   "cell_type": "code",
   "execution_count": 14,
   "id": "43ab1e87",
   "metadata": {},
   "outputs": [],
   "source": [
    "from array import *"
   ]
  },
  {
   "cell_type": "code",
   "execution_count": 15,
   "id": "77fa0081",
   "metadata": {},
   "outputs": [],
   "source": [
    "array_sample=array('i',[1,2,3,4])"
   ]
  },
  {
   "cell_type": "code",
   "execution_count": 16,
   "id": "ab9a707e",
   "metadata": {},
   "outputs": [
    {
     "name": "stdout",
     "output_type": "stream",
     "text": [
      "array('i', [1, 2, 3, 4])\n"
     ]
    }
   ],
   "source": [
    "print(array_sample)"
   ]
  },
  {
   "cell_type": "code",
   "execution_count": 17,
   "id": "e97c8729",
   "metadata": {},
   "outputs": [
    {
     "name": "stdout",
     "output_type": "stream",
     "text": [
      "1\n",
      "2\n",
      "3\n",
      "4\n"
     ]
    }
   ],
   "source": [
    "for x in array_sample:\n",
    "    print(x)"
   ]
  },
  {
   "cell_type": "code",
   "execution_count": 18,
   "id": "3458b953",
   "metadata": {},
   "outputs": [
    {
     "data": {
      "text/plain": [
       "2"
      ]
     },
     "execution_count": 18,
     "metadata": {},
     "output_type": "execute_result"
    }
   ],
   "source": [
    "array_sample.index(3)"
   ]
  },
  {
   "cell_type": "code",
   "execution_count": 20,
   "id": "d696ae35",
   "metadata": {},
   "outputs": [
    {
     "data": {
      "text/plain": [
       "4"
      ]
     },
     "execution_count": 20,
     "metadata": {},
     "output_type": "execute_result"
    }
   ],
   "source": [
    "array_sample[-1]"
   ]
  },
  {
   "cell_type": "markdown",
   "id": "a63b99f0",
   "metadata": {},
   "source": [
    "### Tuple"
   ]
  },
  {
   "cell_type": "code",
   "execution_count": 21,
   "id": "1c912611",
   "metadata": {},
   "outputs": [
    {
     "data": {
      "text/plain": [
       "(1, 2, 5, 5, 8, 'a', 'v')"
      ]
     },
     "execution_count": 21,
     "metadata": {},
     "output_type": "execute_result"
    }
   ],
   "source": [
    "tuple_sample=(1,2,5,5,8,'a','v')\n",
    "tuple_sample"
   ]
  },
  {
   "cell_type": "code",
   "execution_count": 22,
   "id": "60c54424",
   "metadata": {},
   "outputs": [
    {
     "data": {
      "text/plain": [
       "4"
      ]
     },
     "execution_count": 22,
     "metadata": {},
     "output_type": "execute_result"
    }
   ],
   "source": [
    "tuple_sample.index(8)"
   ]
  },
  {
   "cell_type": "code",
   "execution_count": 23,
   "id": "a66b1cb1",
   "metadata": {},
   "outputs": [
    {
     "data": {
      "text/plain": [
       "5"
      ]
     },
     "execution_count": 23,
     "metadata": {},
     "output_type": "execute_result"
    }
   ],
   "source": [
    "tuple_sample[-5]"
   ]
  },
  {
   "cell_type": "markdown",
   "id": "e69d1894",
   "metadata": {},
   "source": [
    "### Dictionary  ( Indexing cannot be done)"
   ]
  },
  {
   "cell_type": "code",
   "execution_count": 25,
   "id": "ba4b338d",
   "metadata": {},
   "outputs": [
    {
     "data": {
      "text/plain": [
       "{1: 'vinay', 'two': 'Preetam', 3: 'Tanvi'}"
      ]
     },
     "execution_count": 25,
     "metadata": {},
     "output_type": "execute_result"
    }
   ],
   "source": [
    "dict_sample={1:'vinay','two':'Preetam',3:'Tanvi'}\n",
    "dict_sample"
   ]
  },
  {
   "cell_type": "code",
   "execution_count": 26,
   "id": "f4171ca6",
   "metadata": {},
   "outputs": [
    {
     "data": {
      "text/plain": [
       "{1: 'vinay', 'two': 'Preetam', 3: 'Tanvi'}"
      ]
     },
     "execution_count": 26,
     "metadata": {},
     "output_type": "execute_result"
    }
   ],
   "source": [
    "dict_sample2=dict([(1,'vinay'),('two','Preetam'),(3,'Tanvi')])\n",
    "dict_sample2"
   ]
  },
  {
   "cell_type": "code",
   "execution_count": 27,
   "id": "0c2aa33f",
   "metadata": {},
   "outputs": [
    {
     "ename": "AttributeError",
     "evalue": "'dict' object has no attribute 'index'",
     "output_type": "error",
     "traceback": [
      "\u001b[1;31m---------------------------------------------------------------------------\u001b[0m",
      "\u001b[1;31mAttributeError\u001b[0m                            Traceback (most recent call last)",
      "\u001b[1;32m~\\AppData\\Local\\Temp\\ipykernel_21164\\2054887798.py\u001b[0m in \u001b[0;36m<module>\u001b[1;34m\u001b[0m\n\u001b[1;32m----> 1\u001b[1;33m \u001b[0mdict_sample2\u001b[0m\u001b[1;33m.\u001b[0m\u001b[0mindex\u001b[0m\u001b[1;33m(\u001b[0m\u001b[1;36m1\u001b[0m\u001b[1;33m)\u001b[0m\u001b[1;33m\u001b[0m\u001b[1;33m\u001b[0m\u001b[0m\n\u001b[0m",
      "\u001b[1;31mAttributeError\u001b[0m: 'dict' object has no attribute 'index'"
     ]
    }
   ],
   "source": [
    "dict_sample2.index(1)"
   ]
  },
  {
   "cell_type": "code",
   "execution_count": 29,
   "id": "5ded3fbd",
   "metadata": {},
   "outputs": [
    {
     "ename": "KeyError",
     "evalue": "0",
     "output_type": "error",
     "traceback": [
      "\u001b[1;31m---------------------------------------------------------------------------\u001b[0m",
      "\u001b[1;31mKeyError\u001b[0m                                  Traceback (most recent call last)",
      "\u001b[1;32m~\\AppData\\Local\\Temp\\ipykernel_21164\\2266023933.py\u001b[0m in \u001b[0;36m<module>\u001b[1;34m\u001b[0m\n\u001b[1;32m----> 1\u001b[1;33m \u001b[0mdict_sample2\u001b[0m\u001b[1;33m[\u001b[0m\u001b[1;36m0\u001b[0m\u001b[1;33m]\u001b[0m\u001b[1;33m\u001b[0m\u001b[1;33m\u001b[0m\u001b[0m\n\u001b[0m",
      "\u001b[1;31mKeyError\u001b[0m: 0"
     ]
    }
   ],
   "source": [
    "dict_sample2[0]"
   ]
  },
  {
   "cell_type": "code",
   "execution_count": 31,
   "id": "e759dcbc",
   "metadata": {},
   "outputs": [
    {
     "data": {
      "text/plain": [
       "'Tanvi'"
      ]
     },
     "execution_count": 31,
     "metadata": {},
     "output_type": "execute_result"
    }
   ],
   "source": [
    "dict_sample2[3]   ## Indexing can be done via key"
   ]
  },
  {
   "cell_type": "markdown",
   "id": "82fd314d",
   "metadata": {},
   "source": [
    "### Set  ( Indexing cannot be done)"
   ]
  },
  {
   "cell_type": "code",
   "execution_count": 32,
   "id": "46fd26db",
   "metadata": {},
   "outputs": [
    {
     "data": {
      "text/plain": [
       "{2, 226, 8, 'p', 'vinay'}"
      ]
     },
     "execution_count": 32,
     "metadata": {},
     "output_type": "execute_result"
    }
   ],
   "source": [
    "set_sample={'vinay',2,8,226,\"p\"}\n",
    "set_sample"
   ]
  },
  {
   "cell_type": "code",
   "execution_count": 33,
   "id": "64c61cd4",
   "metadata": {},
   "outputs": [
    {
     "ename": "AttributeError",
     "evalue": "'set' object has no attribute 'index'",
     "output_type": "error",
     "traceback": [
      "\u001b[1;31m---------------------------------------------------------------------------\u001b[0m",
      "\u001b[1;31mAttributeError\u001b[0m                            Traceback (most recent call last)",
      "\u001b[1;32m~\\AppData\\Local\\Temp\\ipykernel_21164\\2472187343.py\u001b[0m in \u001b[0;36m<module>\u001b[1;34m\u001b[0m\n\u001b[1;32m----> 1\u001b[1;33m \u001b[0mset_sample\u001b[0m\u001b[1;33m.\u001b[0m\u001b[0mindex\u001b[0m\u001b[1;33m(\u001b[0m\u001b[1;36m2\u001b[0m\u001b[1;33m)\u001b[0m\u001b[1;33m\u001b[0m\u001b[1;33m\u001b[0m\u001b[0m\n\u001b[0m",
      "\u001b[1;31mAttributeError\u001b[0m: 'set' object has no attribute 'index'"
     ]
    }
   ],
   "source": [
    "set_sample.index(2)"
   ]
  },
  {
   "cell_type": "code",
   "execution_count": 34,
   "id": "a497d518",
   "metadata": {},
   "outputs": [
    {
     "ename": "TypeError",
     "evalue": "'set' object is not subscriptable",
     "output_type": "error",
     "traceback": [
      "\u001b[1;31m---------------------------------------------------------------------------\u001b[0m",
      "\u001b[1;31mTypeError\u001b[0m                                 Traceback (most recent call last)",
      "\u001b[1;32m~\\AppData\\Local\\Temp\\ipykernel_21164\\2732719425.py\u001b[0m in \u001b[0;36m<module>\u001b[1;34m\u001b[0m\n\u001b[1;32m----> 1\u001b[1;33m \u001b[0mset_sample\u001b[0m\u001b[1;33m[\u001b[0m\u001b[1;36m3\u001b[0m\u001b[1;33m]\u001b[0m\u001b[1;33m\u001b[0m\u001b[1;33m\u001b[0m\u001b[0m\n\u001b[0m",
      "\u001b[1;31mTypeError\u001b[0m: 'set' object is not subscriptable"
     ]
    }
   ],
   "source": [
    "set_sample[3]"
   ]
  },
  {
   "cell_type": "markdown",
   "id": "f8d92e37",
   "metadata": {},
   "source": [
    "### Range"
   ]
  },
  {
   "cell_type": "code",
   "execution_count": 35,
   "id": "8ac1ac11",
   "metadata": {},
   "outputs": [],
   "source": [
    "range_sample=range(1,12,4)"
   ]
  },
  {
   "cell_type": "code",
   "execution_count": 36,
   "id": "73b7c57d",
   "metadata": {},
   "outputs": [
    {
     "data": {
      "text/plain": [
       "range(1, 12, 4)"
      ]
     },
     "execution_count": 36,
     "metadata": {},
     "output_type": "execute_result"
    }
   ],
   "source": [
    "range_sample"
   ]
  },
  {
   "cell_type": "code",
   "execution_count": 37,
   "id": "cebfeced",
   "metadata": {},
   "outputs": [
    {
     "name": "stdout",
     "output_type": "stream",
     "text": [
      "1\n",
      "5\n",
      "9\n"
     ]
    }
   ],
   "source": [
    "for i in range_sample:\n",
    "    print(i)"
   ]
  },
  {
   "cell_type": "code",
   "execution_count": 39,
   "id": "60aad557",
   "metadata": {},
   "outputs": [
    {
     "data": {
      "text/plain": [
       "1"
      ]
     },
     "execution_count": 39,
     "metadata": {},
     "output_type": "execute_result"
    }
   ],
   "source": [
    "range_sample.index(5)"
   ]
  },
  {
   "cell_type": "code",
   "execution_count": 40,
   "id": "88dc4fc0",
   "metadata": {},
   "outputs": [
    {
     "data": {
      "text/plain": [
       "9"
      ]
     },
     "execution_count": 40,
     "metadata": {},
     "output_type": "execute_result"
    }
   ],
   "source": [
    "range_sample[-1]"
   ]
  },
  {
   "cell_type": "code",
   "execution_count": null,
   "id": "abb191ba",
   "metadata": {},
   "outputs": [],
   "source": []
  }
 ],
 "metadata": {
  "kernelspec": {
   "display_name": "Python 3 (ipykernel)",
   "language": "python",
   "name": "python3"
  },
  "language_info": {
   "codemirror_mode": {
    "name": "ipython",
    "version": 3
   },
   "file_extension": ".py",
   "mimetype": "text/x-python",
   "name": "python",
   "nbconvert_exporter": "python",
   "pygments_lexer": "ipython3",
   "version": "3.9.13"
  }
 },
 "nbformat": 4,
 "nbformat_minor": 5
}
