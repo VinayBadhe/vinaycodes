{
 "cells": [
  {
   "cell_type": "code",
   "execution_count": null,
   "id": "cb1502a9",
   "metadata": {},
   "outputs": [],
   "source": [
    "import pandas as pd"
   ]
  },
  {
   "cell_type": "code",
   "execution_count": null,
   "id": "4665ee49",
   "metadata": {},
   "outputs": [],
   "source": [
    "pd.read_csv(r'C:\\Users\\Administrator\\Downloads\\survival_unemployment.csv')"
   ]
  },
  {
   "cell_type": "code",
   "execution_count": null,
   "id": "73b9f8f7",
   "metadata": {},
   "outputs": [],
   "source": [
    "pd.read_excel(r'C:\\Users\\Administrator\\Downloads\\World Bank Indicators.xlsx', sheet_name='Data by country')"
   ]
  },
  {
   "cell_type": "markdown",
   "id": "46f76ee5",
   "metadata": {},
   "source": [
    "### Other Options while importing Files"
   ]
  },
  {
   "cell_type": "code",
   "execution_count": null,
   "id": "c84ccf0a",
   "metadata": {},
   "outputs": [],
   "source": [
    "pd.read_csv(r'C:\\Users\\Administrator\\Downloads\\survival_unemployment.csv', header=None)"
   ]
  },
  {
   "cell_type": "code",
   "execution_count": null,
   "id": "947e8b1f",
   "metadata": {},
   "outputs": [],
   "source": [
    "pd.read_csv(r'C:\\Users\\Administrator\\Downloads\\survival_unemployment.csv', header=None, names=['VINAY','pREE','Tanu','dad'])"
   ]
  },
  {
   "cell_type": "code",
   "execution_count": null,
   "id": "1a70dce9",
   "metadata": {},
   "outputs": [],
   "source": [
    "pd.set_option('display.max.rows', 3344)\n",
    "#pd.set_option('display.max.columbs', no. of columns)"
   ]
  },
  {
   "cell_type": "code",
   "execution_count": null,
   "id": "db830103",
   "metadata": {},
   "outputs": [],
   "source": [
    "pd.read_csv(r'C:\\Users\\Administrator\\Downloads\\survival_unemployment.csv',usecols=['spell','event','ui'] )"
   ]
  },
  {
   "cell_type": "code",
   "execution_count": null,
   "id": "b666eb83",
   "metadata": {},
   "outputs": [],
   "source": [
    "v=pd.read_csv(r'C:\\Users\\Administrator\\Downloads\\survival_unemployment.csv',dtype={'spell':int,'event':float,'ui':object} )\n",
    "v.dtypes"
   ]
  },
  {
   "cell_type": "code",
   "execution_count": null,
   "id": "b02dca58",
   "metadata": {},
   "outputs": [],
   "source": [
    "pd.read_csv(r'C:\\Users\\Administrator\\Downloads\\survival_unemployment.csv', index_col=2)"
   ]
  }
 ],
 "metadata": {
  "kernelspec": {
   "display_name": "Python 3 (ipykernel)",
   "language": "python",
   "name": "python3"
  },
  "language_info": {
   "codemirror_mode": {
    "name": "ipython",
    "version": 3
   },
   "file_extension": ".py",
   "mimetype": "text/x-python",
   "name": "python",
   "nbconvert_exporter": "python",
   "pygments_lexer": "ipython3",
   "version": "3.9.13"
  }
 },
 "nbformat": 4,
 "nbformat_minor": 5
}
